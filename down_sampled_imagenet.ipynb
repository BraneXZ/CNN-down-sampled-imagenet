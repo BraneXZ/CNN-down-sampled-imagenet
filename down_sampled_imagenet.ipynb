{
  "nbformat": 4,
  "nbformat_minor": 0,
  "metadata": {
    "colab": {
      "name": "down_sampled_imagenet.ipynb",
      "provenance": [],
      "collapsed_sections": [],
      "include_colab_link": true
    },
    "kernelspec": {
      "name": "python3",
      "display_name": "Python 3"
    },
    "accelerator": "GPU"
  },
  "cells": [
    {
      "cell_type": "markdown",
      "metadata": {
        "id": "view-in-github",
        "colab_type": "text"
      },
      "source": [
        "<a href=\"https://colab.research.google.com/github/BraneXZ/CNN-down-sampled-imagenet/blob/master/down_sampled_imagenet.ipynb\" target=\"_parent\"><img src=\"https://colab.research.google.com/assets/colab-badge.svg\" alt=\"Open In Colab\"/></a>"
      ]
    },
    {
      "cell_type": "code",
      "metadata": {
        "id": "ryhZeXwqfgK5",
        "colab_type": "code",
        "outputId": "8a4b250f-668a-490d-a27d-40ccf73a6525",
        "colab": {
          "base_uri": "https://localhost:8080/",
          "height": 35
        }
      },
      "source": [
        "from google.colab import drive\n",
        "drive.mount('/content/gdrive')"
      ],
      "execution_count": 0,
      "outputs": [
        {
          "output_type": "stream",
          "text": [
            "Drive already mounted at /content/gdrive; to attempt to forcibly remount, call drive.mount(\"/content/gdrive\", force_remount=True).\n"
          ],
          "name": "stdout"
        }
      ]
    },
    {
      "cell_type": "code",
      "metadata": {
        "id": "9xxEw9PHfuNd",
        "colab_type": "code",
        "colab": {}
      },
      "source": [
        "import tensorflow_datasets as tfds\n",
        "import numpy as np\n",
        "import PIL.Image as Image\n",
        "import tensorflow as tf\n",
        "import tensorflow_hub as hub\n",
        "from tensorflow.keras import layers\n",
        "import matplotlib.pyplot as plt\n",
        "from tensorflow import keras\n",
        "import math\n",
        "\n",
        "tf.enable_eager_execution()"
      ],
      "execution_count": 0,
      "outputs": []
    },
    {
      "cell_type": "code",
      "metadata": {
        "id": "cb3Ck8dhfmAp",
        "colab_type": "code",
        "colab": {}
      },
      "source": [
        "validate, info = tfds.load(\"downsampled_imagenet/64x64\", data_dir=\"/content/gdrive/My Drive\", split=\"validation\", with_info=True)\n",
        "train = tfds.load(\"downsampled_imagenet/64x64\", data_dir=\"/content/gdrive/My Drive\", split=\"train\")"
      ],
      "execution_count": 0,
      "outputs": []
    },
    {
      "cell_type": "code",
      "metadata": {
        "id": "cDsey58Th3hr",
        "colab_type": "code",
        "colab": {}
      },
      "source": [
        "classifier_url =\"https://tfhub.dev/google/tf2-preview/mobilenet_v2/classification/2\" #@param {type:\"string\"}"
      ],
      "execution_count": 0,
      "outputs": []
    },
    {
      "cell_type": "code",
      "metadata": {
        "id": "wyRAO078Ccth",
        "colab_type": "code",
        "colab": {}
      },
      "source": [
        "IMAGE_SHAPE = (224, 224)\n",
        "\n",
        "classifier = tf.keras.Sequential([\n",
        "    hub.KerasLayer(classifier_url, input_shape=IMAGE_SHAPE+(3,))\n",
        "])\n",
        "labels_path = tf.keras.utils.get_file('ImageNetLabels.txt','https://storage.googleapis.com/download.tensorflow.org/data/ImageNetLabels.txt')\n",
        "imagenet_labels = np.array(open(labels_path).read().splitlines())"
      ],
      "execution_count": 0,
      "outputs": []
    },
    {
      "cell_type": "code",
      "metadata": {
        "id": "yPEvO5f1h32R",
        "colab_type": "code",
        "colab": {}
      },
      "source": [
        "image_generator = tf.keras.preprocessing.image.ImageDataGenerator(rescale=1/255)"
      ],
      "execution_count": 0,
      "outputs": []
    },
    {
      "cell_type": "code",
      "metadata": {
        "id": "B1YBG-44ClWZ",
        "colab_type": "code",
        "colab": {}
      },
      "source": [
        "validate_batch = validate.batch(128)\n",
        "validate_labels = []\n",
        "for batch in validate_batch:\n",
        "  resized_images = tf.image.resize_images(batch['image'], (224, 224))\n",
        "  image_data = image_generator.flow(resized_images/255)\n",
        "  result = classifier.predict(image_data.x)\n",
        "  for index, image in enumerate(resized_images/255):\n",
        "#     print('{},'.format(np.argmax(result[index])))\n",
        "    validate_labels.append(np.argmax(result[index]))\n",
        "#     validate_with_labels['image'].append(image)\n",
        "#     plt.figure()\n",
        "#     plt.imshow(image)\n",
        "#     plt.title(imagenet_labels[np.argmax(result[index], axis=-1)])\n",
        "#     plt.show()"
      ],
      "execution_count": 0,
      "outputs": []
    },
    {
      "cell_type": "code",
      "metadata": {
        "id": "FAz8Dwurox0q",
        "colab_type": "code",
        "colab": {}
      },
      "source": [
        "train_batch = train.batch(128)\n",
        "train_labels = []\n",
        "batch_num = 1\n",
        "for batch in train_batch:\n",
        "  resized_images = tf.image.resize_images(batch['image'], (224, 224))\n",
        "  image_data = image_generator.flow(resized_images/255)\n",
        "  result = classifier.predict(image_data.x)\n",
        "  print(\"Processing batch {}\".format(batch_num))\n",
        "  batch_num += 1\n",
        "  for index, image in enumerate(resized_images/255):\n",
        "#     print('{},'.format(np.argmax(result[index])))\n",
        "    train_labels.append(np.argmax(result[index]))\n",
        "#     validate_with_labels['image'].append(image)\n",
        "#     plt.figure()\n",
        "#     plt.imshow(image)\n",
        "#     plt.title(imagenet_labels[np.argmax(result[index], axis=-1)])\n",
        "#     plt.show()"
      ],
      "execution_count": 0,
      "outputs": []
    },
    {
      "cell_type": "code",
      "metadata": {
        "id": "hiibcP7vDDEV",
        "colab_type": "code",
        "colab": {}
      },
      "source": [
        "# create and compile model\n",
        "def create_model(level_0_repeats, level_1_repeats, level_2_repeats):\n",
        "\n",
        "    # encoder - input\n",
        "    model_input = keras.Input(shape=(64, 64, 3), name='image')\n",
        "    x           = model_input\n",
        "    \n",
        "    # encoder - level 0\n",
        "    for n0 in range(level_0_repeats):\n",
        "        x = keras.layers.Conv2D(32, 3, strides=1, padding='same', activation='relu', use_bias=True)(x)\n",
        "#         x = keras.layers.Conv2D(32, 3, strides=1, padding='same', activation=None, use_bias=False)(x)\n",
        "#         x = keras.layers.BatchNormalization(axis=-1, momentum=0.99, epsilon=0.001, center=True, scale=True)(x)\n",
        "#         x = keras.layers.ReLU()(x)\n",
        "    x = keras.layers.MaxPooling2D(pool_size=(3, 3), strides=(2, 2), padding='same')(x)\n",
        "\n",
        "    # encoder - level 1\n",
        "    for n1 in range(level_1_repeats):\n",
        "        x = keras.layers.Conv2D(64, 3, strides=1, padding='same', activation='relu', use_bias=True)(x)\n",
        "#         x = keras.layers.Conv2D(64, 3, strides=1, padding='same', activation=None, use_bias=False)(x)\n",
        "#         x = keras.layers.BatchNormalization(axis=-1, momentum=0.99, epsilon=0.001, center=True, scale=True)(x)\n",
        "#         x = keras.layers.ReLU()(x)\n",
        "    x = keras.layers.MaxPooling2D(pool_size=(3, 3), strides=(2, 2), padding='same')(x)\n",
        "        \n",
        "    # encoder - level 2\n",
        "    for n2 in range(level_2_repeats):\n",
        "      x = keras.layers.Conv2D(128, 3, strides=1, padding='same', activation='relu', use_bias=True)(x)\n",
        "#         x = keras.layers.Conv2D(128, 3, strides=1, padding='same', activation=None, use_bias=False)(x)\n",
        "#         x = keras.layers.BatchNormalization(axis=-1, momentum=0.99, epsilon=0.001, center=True, scale=True)(x)\n",
        "#         x = keras.layers.ReLU()(x)\n",
        "\n",
        "    # encoder - output\n",
        "    encoder_output = x\n",
        "\n",
        "    # decoder\n",
        "    y              = keras.layers.GlobalAveragePooling2D()(encoder_output)\n",
        "    decoder_output = keras.layers.Dense(1000, activation='softmax')(y)\n",
        "    \n",
        "    # forward path\n",
        "    model = keras.Model(inputs=model_input, outputs=decoder_output, name='down_sampled_imagenet_model')\n",
        "\n",
        "    # loss, backward path (implicit) and weight update\n",
        "    model.compile(optimizer=tf.keras.optimizers.Adam(0.001), loss='sparse_categorical_crossentropy', metrics=['accuracy'])\n",
        "    \n",
        "    # return model\n",
        "    return model\n"
      ],
      "execution_count": 0,
      "outputs": []
    },
    {
      "cell_type": "code",
      "metadata": {
        "id": "5HgOsS3crE12",
        "colab_type": "code",
        "outputId": "286a933a-e590-41c8-8d05-9dde206ce9cd",
        "colab": {
          "base_uri": "https://localhost:8080/",
          "height": 651
        }
      },
      "source": [
        "# create and compile model\n",
        "model = create_model(3, 3, 3)\n",
        "\n",
        "# model description and figure\n",
        "model.summary()"
      ],
      "execution_count": 0,
      "outputs": [
        {
          "output_type": "stream",
          "text": [
            "Model: \"down_sampled_imagenet_model\"\n",
            "_________________________________________________________________\n",
            "Layer (type)                 Output Shape              Param #   \n",
            "=================================================================\n",
            "image (InputLayer)           [(None, 64, 64, 3)]       0         \n",
            "_________________________________________________________________\n",
            "conv2d_63 (Conv2D)           (None, 64, 64, 32)        896       \n",
            "_________________________________________________________________\n",
            "conv2d_64 (Conv2D)           (None, 64, 64, 32)        9248      \n",
            "_________________________________________________________________\n",
            "conv2d_65 (Conv2D)           (None, 64, 64, 32)        9248      \n",
            "_________________________________________________________________\n",
            "max_pooling2d_14 (MaxPooling (None, 32, 32, 32)        0         \n",
            "_________________________________________________________________\n",
            "conv2d_66 (Conv2D)           (None, 32, 32, 64)        18496     \n",
            "_________________________________________________________________\n",
            "conv2d_67 (Conv2D)           (None, 32, 32, 64)        36928     \n",
            "_________________________________________________________________\n",
            "conv2d_68 (Conv2D)           (None, 32, 32, 64)        36928     \n",
            "_________________________________________________________________\n",
            "max_pooling2d_15 (MaxPooling (None, 16, 16, 64)        0         \n",
            "_________________________________________________________________\n",
            "conv2d_69 (Conv2D)           (None, 16, 16, 128)       73856     \n",
            "_________________________________________________________________\n",
            "conv2d_70 (Conv2D)           (None, 16, 16, 128)       147584    \n",
            "_________________________________________________________________\n",
            "conv2d_71 (Conv2D)           (None, 16, 16, 128)       147584    \n",
            "_________________________________________________________________\n",
            "global_average_pooling2d_7 ( (None, 128)               0         \n",
            "_________________________________________________________________\n",
            "dense_7 (Dense)              (None, 1000)              129000    \n",
            "=================================================================\n",
            "Total params: 609,768\n",
            "Trainable params: 609,768\n",
            "Non-trainable params: 0\n",
            "_________________________________________________________________\n"
          ],
          "name": "stdout"
        }
      ]
    },
    {
      "cell_type": "code",
      "metadata": {
        "id": "SJV53xmZebZi",
        "colab_type": "code",
        "colab": {}
      },
      "source": [
        "# training\n",
        "TRAINING_BATCH_SIZE      = 32\n",
        "TRAINING_SHUFFLE_BUFFER  = 5000\n",
        "TRAINING_LR_MAX          = 0.001\n",
        "# TRAINING_LR_SCALE        = 0.1\n",
        "# TRAINING_LR_EPOCHS       = 2\n",
        "TRAINING_LR_INIT_SCALE   = 0.01\n",
        "TRAINING_LR_INIT_EPOCHS  = 5\n",
        "TRAINING_LR_FINAL_SCALE  = 0.01\n",
        "TRAINING_LR_FINAL_EPOCHS = 25\n",
        "\n",
        "# training (derived)\n",
        "TRAINING_NUM_EPOCHS = TRAINING_LR_INIT_EPOCHS + TRAINING_LR_FINAL_EPOCHS\n",
        "TRAINING_LR_INIT    = TRAINING_LR_MAX*TRAINING_LR_INIT_SCALE\n",
        "TRAINING_LR_FINAL   = TRAINING_LR_MAX*TRAINING_LR_FINAL_SCALE\n",
        "\n",
        "# saving\n",
        "SAVE_MODEL_PATH = '/content/gdrive/My Drive/model'\n",
        "!mkdir -p \"$SAVE_MODEL_PATH\""
      ],
      "execution_count": 0,
      "outputs": []
    },
    {
      "cell_type": "code",
      "metadata": {
        "id": "nfNBQxV0DQN8",
        "colab_type": "code",
        "colab": {}
      },
      "source": [
        "# learning rate schedule\n",
        "def lr_schedule(epoch):\n",
        "\n",
        "    # staircase\n",
        "    # lr = TRAINING_LR_MAX*math.pow(TRAINING_LR_SCALE, math.floor(epoch/TRAINING_LR_EPOCHS))\n",
        "\n",
        "    # linear warmup followed by cosine decay\n",
        "    if epoch < TRAINING_LR_INIT_EPOCHS:\n",
        "        lr = (TRAINING_LR_MAX - TRAINING_LR_INIT)*(float(epoch)/TRAINING_LR_INIT_EPOCHS) + TRAINING_LR_INIT\n",
        "    else:\n",
        "        lr = (TRAINING_LR_MAX - TRAINING_LR_FINAL)*max(0.0, math.cos(((float(epoch) - TRAINING_LR_INIT_EPOCHS)/(TRAINING_LR_FINAL_EPOCHS - 1.0))*(math.pi/2.0))) + TRAINING_LR_FINAL\n",
        "\n",
        "    # debug - learning rate display\n",
        "    # print(epoch)\n",
        "    # print(lr)\n",
        "\n",
        "    return lr\n",
        "\n",
        "# plot training accuracy and loss curves\n",
        "def plot_training_curves(history):\n",
        "\n",
        "    # training and validation data accuracy\n",
        "    acc     = history.history['accuracy']\n",
        "    val_acc = history.history['val_accuracy']\n",
        "\n",
        "    # training and validation data loss\n",
        "    loss     = history.history['loss']\n",
        "    val_loss = history.history['val_loss']\n",
        "\n",
        "    # plot accuracy\n",
        "    plt.figure(figsize=(8, 8))\n",
        "    plt.subplot(2, 1, 1)\n",
        "    plt.plot(acc, label='Training Accuracy')\n",
        "    plt.plot(val_acc, label='Validation Accuracy')\n",
        "    plt.legend(loc='lower right')\n",
        "    plt.ylabel('Accuracy')\n",
        "    plt.ylim([min(plt.ylim()), 1])\n",
        "    plt.title('Training and Validation Accuracy')\n",
        "\n",
        "    # plot loss\n",
        "    plt.subplot(2, 1, 2)\n",
        "    plt.plot(loss, label='Training Loss')\n",
        "    plt.plot(val_loss, label='Validation Loss')\n",
        "    plt.legend(loc='upper right')\n",
        "    plt.ylabel('Cross Entropy')\n",
        "    plt.ylim([0, 2.0])\n",
        "    plt.title('Training and Validation Loss')\n",
        "    plt.xlabel('epoch')\n",
        "    plt.show()\n",
        "\n",
        "# callbacks (learning rate schedule, model checkpointing during training)\n",
        "callbacks = [keras.callbacks.LearningRateScheduler(lr_schedule),\n",
        "             keras.callbacks.ModelCheckpoint(filepath=SAVE_MODEL_PATH+'model_{epoch}.h5', save_best_only=True, monitor='val_loss', verbose=1)]\n"
      ],
      "execution_count": 0,
      "outputs": []
    },
    {
      "cell_type": "code",
      "metadata": {
        "id": "EOGC4q1is6jH",
        "colab_type": "code",
        "colab": {}
      },
      "source": [
        "# with open('train_label.txt', 'w') as filehandle:\n",
        "#     for items in train_labels:\n",
        "#         filehandle.write('%s\\n' % items)"
      ],
      "execution_count": 0,
      "outputs": []
    },
    {
      "cell_type": "code",
      "metadata": {
        "id": "25myXgygrh6x",
        "colab_type": "code",
        "colab": {}
      },
      "source": [
        "# with open('validate_label.txt', 'w') as filehandle:\n",
        "#     for items in validate_labels:\n",
        "#         filehandle.write('%s\\n' % items)"
      ],
      "execution_count": 0,
      "outputs": []
    },
    {
      "cell_type": "code",
      "metadata": {
        "id": "KIsWs5geuFFm",
        "colab_type": "code",
        "colab": {}
      },
      "source": [
        "train_label = []\n",
        "with open('/content/gdrive/My Drive/downsampled_imagenet/64x64/1.0.0/train_label.txt', 'r') as filehandle:\n",
        "    for line in filehandle:\n",
        "        # remove linebreak which is the last character of the string\n",
        "        currentPlace = line[:-1]\n",
        "\n",
        "        # add item to the list\n",
        "        train_label.append(int(currentPlace))"
      ],
      "execution_count": 0,
      "outputs": []
    },
    {
      "cell_type": "code",
      "metadata": {
        "id": "YadspoAVtx-T",
        "colab_type": "code",
        "colab": {}
      },
      "source": [
        "validate_label = []\n",
        "with open('/content/gdrive/My Drive/downsampled_imagenet/64x64/1.0.0/validate_label.txt', 'r') as filehandle:\n",
        "    for line in filehandle:\n",
        "        # remove linebreak which is the last character of the string\n",
        "        currentPlace = line[:-1]\n",
        "\n",
        "        # add item to the list\n",
        "        validate_label.append(int(currentPlace))"
      ],
      "execution_count": 0,
      "outputs": []
    },
    {
      "cell_type": "code",
      "metadata": {
        "id": "j0Qk-1v8vQWI",
        "colab_type": "code",
        "colab": {}
      },
      "source": [
        "# def tfdata_generator(images, labels, is_training, batch_size=128):\n",
        "#   '''Construct a data generator using `tf.Dataset`. '''\n",
        "\n",
        "#   def map_fn(image, label):\n",
        "#     x = tf.reshape(tf.cast(image, tf.float32), (64, 64, 1))\n",
        "#     y = tf.one_hot(tf.cast(label, tf.uint8), 1000)\n",
        "#     return x, y\n",
        "\n",
        "#   dataset = tf.data.Dataset.from_tensor_slices(images)\n",
        "\n",
        "#   if is_training:\n",
        "#     dataset = dataset.shuffle(1000)  # depends on sample size\n",
        "#   dataset = dataset.map(map_fn)\n",
        "#   dataset = dataset.batch(batch_size)\n",
        "#   dataset = dataset.repeat()\n",
        "#   dataset = dataset.prefetch(tf.contrib.data.AUTOTUNE)\n",
        "\n",
        "#   return dataset"
      ],
      "execution_count": 0,
      "outputs": []
    },
    {
      "cell_type": "code",
      "metadata": {
        "id": "9By-m7UY0oIF",
        "colab_type": "code",
        "colab": {}
      },
      "source": [
        "train_label = np.asarray(train_label)"
      ],
      "execution_count": 0,
      "outputs": []
    },
    {
      "cell_type": "code",
      "metadata": {
        "id": "UYUS0Fk-97_r",
        "colab_type": "code",
        "colab": {}
      },
      "source": [
        "def batching_label(iterable, n=128):\n",
        "    l = len(iterable)\n",
        "    for ndx in range(0, l, n):\n",
        "        label = iterable[ndx:min(ndx + n, l)]\n",
        "        yield label\n",
        "train_label = batching_label(train_label)"
      ],
      "execution_count": 0,
      "outputs": []
    },
    {
      "cell_type": "code",
      "metadata": {
        "id": "7_GPdXu4YyID",
        "colab_type": "code",
        "colab": {}
      },
      "source": [
        "def combine(images, labels):\n",
        "  for image, label in zip(images, labels):\n",
        "    yield (tf.divide(image['image'],64), tf.constant(label))"
      ],
      "execution_count": 0,
      "outputs": []
    },
    {
      "cell_type": "code",
      "metadata": {
        "id": "mg9YIOIkW8P7",
        "colab_type": "code",
        "colab": {}
      },
      "source": [
        "train_batch = train.batch(128)\n",
        "train_combined = combine(train_batch, train_label)"
      ],
      "execution_count": 0,
      "outputs": []
    },
    {
      "cell_type": "code",
      "metadata": {
        "id": "fUs220tEgdkT",
        "colab_type": "code",
        "outputId": "fae5e1de-9dfd-4767-a6d6-1146118d24fa",
        "colab": {
          "base_uri": "https://localhost:8080/",
          "height": 1000
        }
      },
      "source": [
        "for i in train_combined:\n",
        "  print(i)\n",
        "  break"
      ],
      "execution_count": 0,
      "outputs": [
        {
          "output_type": "stream",
          "text": [
            "(<tf.Tensor: id=49875, shape=(128, 64, 64, 3), dtype=float32, numpy=\n",
            "array([[[[2.46875 , 2.453125, 2.453125],\n",
            "         [1.875   , 1.875   , 1.875   ],\n",
            "         [3.984375, 3.984375, 3.984375],\n",
            "         ...,\n",
            "         [3.59375 , 3.59375 , 3.59375 ],\n",
            "         [1.984375, 1.9375  , 1.953125],\n",
            "         [1.75    , 1.734375, 1.734375]],\n",
            "\n",
            "        [[2.46875 , 2.453125, 2.453125],\n",
            "         [1.875   , 1.875   , 1.875   ],\n",
            "         [3.984375, 3.984375, 3.984375],\n",
            "         ...,\n",
            "         [3.984375, 3.984375, 3.984375],\n",
            "         [1.96875 , 1.921875, 1.9375  ],\n",
            "         [1.78125 , 1.734375, 1.75    ]],\n",
            "\n",
            "        [[2.46875 , 2.453125, 2.453125],\n",
            "         [1.875   , 1.875   , 1.875   ],\n",
            "         [3.984375, 3.984375, 3.984375],\n",
            "         ...,\n",
            "         [3.375   , 3.375   , 3.375   ],\n",
            "         [2.046875, 2.      , 2.015625],\n",
            "         [1.765625, 1.734375, 1.734375]],\n",
            "\n",
            "        ...,\n",
            "\n",
            "        [[2.46875 , 2.453125, 2.453125],\n",
            "         [1.875   , 1.875   , 1.875   ],\n",
            "         [3.984375, 3.984375, 3.984375],\n",
            "         ...,\n",
            "         [3.984375, 3.984375, 3.984375],\n",
            "         [1.953125, 1.921875, 1.921875],\n",
            "         [1.71875 , 1.71875 , 1.71875 ]],\n",
            "\n",
            "        [[2.46875 , 2.453125, 2.453125],\n",
            "         [1.875   , 1.875   , 1.875   ],\n",
            "         [3.984375, 3.984375, 3.984375],\n",
            "         ...,\n",
            "         [3.984375, 3.984375, 3.984375],\n",
            "         [1.96875 , 1.921875, 1.9375  ],\n",
            "         [1.734375, 1.734375, 1.734375]],\n",
            "\n",
            "        [[2.46875 , 2.453125, 2.453125],\n",
            "         [1.875   , 1.875   , 1.875   ],\n",
            "         [3.984375, 3.984375, 3.984375],\n",
            "         ...,\n",
            "         [3.859375, 3.859375, 3.859375],\n",
            "         [1.96875 , 1.9375  , 1.9375  ],\n",
            "         [1.71875 , 1.71875 , 1.71875 ]]],\n",
            "\n",
            "\n",
            "       [[[3.21875 , 3.6875  , 2.25    ],\n",
            "         [3.1875  , 3.78125 , 2.265625],\n",
            "         [3.5     , 3.796875, 2.578125],\n",
            "         ...,\n",
            "         [3.6875  , 3.859375, 2.875   ],\n",
            "         [3.5     , 3.8125  , 2.59375 ],\n",
            "         [3.546875, 3.8125  , 2.75    ]],\n",
            "\n",
            "        [[3.359375, 3.78125 , 2.390625],\n",
            "         [3.59375 , 3.796875, 2.5625  ],\n",
            "         [3.484375, 3.796875, 2.484375],\n",
            "         ...,\n",
            "         [3.453125, 3.578125, 2.375   ],\n",
            "         [3.671875, 3.828125, 2.875   ],\n",
            "         [3.171875, 3.671875, 2.390625]],\n",
            "\n",
            "        [[3.375   , 3.8125  , 2.40625 ],\n",
            "         [3.265625, 3.65625 , 2.234375],\n",
            "         [3.453125, 3.78125 , 2.515625],\n",
            "         ...,\n",
            "         [3.34375 , 3.53125 , 2.34375 ],\n",
            "         [3.28125 , 3.671875, 2.296875],\n",
            "         [2.921875, 3.5625  , 2.015625]],\n",
            "\n",
            "        ...,\n",
            "\n",
            "        [[3.328125, 3.515625, 2.4375  ],\n",
            "         [3.109375, 3.328125, 2.265625],\n",
            "         [3.28125 , 3.53125 , 2.53125 ],\n",
            "         ...,\n",
            "         [0.296875, 0.46875 , 0.5     ],\n",
            "         [0.515625, 0.671875, 0.828125],\n",
            "         [0.25    , 0.34375 , 0.28125 ]],\n",
            "\n",
            "        [[3.34375 , 3.578125, 2.5625  ],\n",
            "         [3.328125, 3.609375, 2.625   ],\n",
            "         [3.046875, 3.453125, 2.328125],\n",
            "         ...,\n",
            "         [0.28125 , 0.4375  , 0.40625 ],\n",
            "         [0.5     , 0.65625 , 0.765625],\n",
            "         [0.1875  , 0.3125  , 0.265625]],\n",
            "\n",
            "        [[2.890625, 3.421875, 2.328125],\n",
            "         [2.90625 , 3.578125, 2.40625 ],\n",
            "         [2.984375, 3.5625  , 2.34375 ],\n",
            "         ...,\n",
            "         [0.234375, 0.359375, 0.328125],\n",
            "         [0.375   , 0.5     , 0.515625],\n",
            "         [0.296875, 0.40625 , 0.453125]]],\n",
            "\n",
            "\n",
            "       [[[0.      , 0.109375, 0.      ],\n",
            "         [0.265625, 0.453125, 0.140625],\n",
            "         [0.15625 , 0.25    , 0.046875],\n",
            "         ...,\n",
            "         [1.09375 , 1.3125  , 0.40625 ],\n",
            "         [0.984375, 1.515625, 0.125   ],\n",
            "         [1.078125, 1.65625 , 0.1875  ]],\n",
            "\n",
            "        [[0.375   , 0.46875 , 0.234375],\n",
            "         [0.28125 , 0.5     , 0.140625],\n",
            "         [0.25    , 0.484375, 0.109375],\n",
            "         ...,\n",
            "         [1.046875, 1.40625 , 0.421875],\n",
            "         [1.015625, 1.53125 , 0.109375],\n",
            "         [0.734375, 0.953125, 0.109375]],\n",
            "\n",
            "        [[1.765625, 2.015625, 1.0625  ],\n",
            "         [0.      , 0.21875 , 0.      ],\n",
            "         [0.515625, 0.90625 , 0.078125],\n",
            "         ...,\n",
            "         [1.703125, 1.921875, 1.109375],\n",
            "         [0.      , 0.      , 0.      ],\n",
            "         [0.625   , 0.828125, 0.4375  ]],\n",
            "\n",
            "        ...,\n",
            "\n",
            "        [[2.109375, 2.4375  , 0.78125 ],\n",
            "         [2.203125, 2.3125  , 0.9375  ],\n",
            "         [1.5625  , 1.4375  , 0.5625  ],\n",
            "         ...,\n",
            "         [0.      , 0.      , 0.      ],\n",
            "         [0.      , 0.0625  , 0.03125 ],\n",
            "         [0.      , 0.      , 0.      ]],\n",
            "\n",
            "        [[0.59375 , 0.703125, 0.      ],\n",
            "         [0.796875, 0.640625, 0.203125],\n",
            "         [1.203125, 0.90625 , 0.09375 ],\n",
            "         ...,\n",
            "         [1.28125 , 1.109375, 0.25    ],\n",
            "         [0.      , 0.      , 0.      ],\n",
            "         [0.      , 0.      , 0.      ]],\n",
            "\n",
            "        [[1.71875 , 1.921875, 0.453125],\n",
            "         [1.421875, 1.578125, 0.140625],\n",
            "         [2.8125  , 2.6875  , 0.5     ],\n",
            "         ...,\n",
            "         [2.078125, 1.8125  , 0.234375],\n",
            "         [0.25    , 0.15625 , 0.09375 ],\n",
            "         [0.09375 , 0.140625, 0.046875]]],\n",
            "\n",
            "\n",
            "       ...,\n",
            "\n",
            "\n",
            "       [[[1.09375 , 1.09375 , 1.40625 ],\n",
            "         [0.921875, 0.84375 , 1.140625],\n",
            "         [0.953125, 0.90625 , 1.09375 ],\n",
            "         ...,\n",
            "         [2.8125  , 2.90625 , 3.015625],\n",
            "         [2.796875, 2.90625 , 3.015625],\n",
            "         [2.78125 , 2.890625, 2.984375]],\n",
            "\n",
            "        [[1.0625  , 1.140625, 1.375   ],\n",
            "         [1.15625 , 1.09375 , 1.40625 ],\n",
            "         [1.109375, 1.1875  , 1.46875 ],\n",
            "         ...,\n",
            "         [2.8125  , 2.96875 , 3.      ],\n",
            "         [2.8125  , 2.953125, 2.984375],\n",
            "         [2.8125  , 2.9375  , 2.96875 ]],\n",
            "\n",
            "        [[1.140625, 1.1875  , 1.4375  ],\n",
            "         [1.1875  , 1.15625 , 1.40625 ],\n",
            "         [1.109375, 1.1875  , 1.40625 ],\n",
            "         ...,\n",
            "         [2.84375 , 2.953125, 3.015625],\n",
            "         [2.828125, 2.953125, 2.984375],\n",
            "         [2.828125, 2.953125, 2.984375]],\n",
            "\n",
            "        ...,\n",
            "\n",
            "        [[0.96875 , 0.875   , 0.890625],\n",
            "         [0.9375  , 0.859375, 0.890625],\n",
            "         [0.921875, 0.859375, 0.921875],\n",
            "         ...,\n",
            "         [1.171875, 1.03125 , 1.      ],\n",
            "         [1.      , 0.859375, 0.796875],\n",
            "         [1.203125, 1.03125 , 1.      ]],\n",
            "\n",
            "        [[0.984375, 0.921875, 0.953125],\n",
            "         [0.96875 , 0.890625, 0.953125],\n",
            "         [0.96875 , 0.90625 , 0.953125],\n",
            "         ...,\n",
            "         [1.203125, 1.09375 , 1.046875],\n",
            "         [1.09375 , 0.984375, 0.875   ],\n",
            "         [1.109375, 0.96875 , 0.921875]],\n",
            "\n",
            "        [[0.921875, 0.875   , 0.90625 ],\n",
            "         [0.96875 , 0.890625, 0.90625 ],\n",
            "         [0.953125, 0.875   , 0.9375  ],\n",
            "         ...,\n",
            "         [1.1875  , 1.03125 , 1.      ],\n",
            "         [1.015625, 0.859375, 0.796875],\n",
            "         [0.828125, 0.734375, 0.703125]]],\n",
            "\n",
            "\n",
            "       [[[2.890625, 2.640625, 1.6875  ],\n",
            "         [2.703125, 2.203125, 1.59375 ],\n",
            "         [3.09375 , 2.640625, 1.84375 ],\n",
            "         ...,\n",
            "         [1.453125, 1.65625 , 0.578125],\n",
            "         [1.5     , 1.46875 , 0.625   ],\n",
            "         [1.640625, 1.703125, 0.65625 ]],\n",
            "\n",
            "        [[2.171875, 2.15625 , 1.296875],\n",
            "         [2.90625 , 2.59375 , 1.828125],\n",
            "         [3.03125 , 2.703125, 2.0625  ],\n",
            "         ...,\n",
            "         [1.75    , 1.859375, 0.828125],\n",
            "         [1.375   , 1.59375 , 0.5     ],\n",
            "         [1.171875, 1.21875 , 0.375   ]],\n",
            "\n",
            "        [[2.34375 , 2.140625, 1.375   ],\n",
            "         [3.140625, 3.      , 2.46875 ],\n",
            "         [3.140625, 2.96875 , 2.40625 ],\n",
            "         ...,\n",
            "         [2.515625, 2.234375, 1.25    ],\n",
            "         [2.265625, 2.296875, 1.1875  ],\n",
            "         [1.796875, 1.90625 , 0.890625]],\n",
            "\n",
            "        ...,\n",
            "\n",
            "        [[2.390625, 2.859375, 1.234375],\n",
            "         [2.59375 , 3.03125 , 1.5     ],\n",
            "         [2.59375 , 3.0625  , 1.640625],\n",
            "         ...,\n",
            "         [1.6875  , 1.4375  , 1.140625],\n",
            "         [1.703125, 1.3125  , 0.90625 ],\n",
            "         [1.3125  , 0.9375  , 0.65625 ]],\n",
            "\n",
            "        [[2.265625, 2.6875  , 1.140625],\n",
            "         [2.46875 , 2.921875, 1.34375 ],\n",
            "         [2.53125 , 3.015625, 1.4375  ],\n",
            "         ...,\n",
            "         [1.828125, 1.671875, 1.546875],\n",
            "         [2.203125, 1.9375  , 1.78125 ],\n",
            "         [1.671875, 1.5     , 1.40625 ]],\n",
            "\n",
            "        [[2.390625, 2.78125 , 1.28125 ],\n",
            "         [2.328125, 2.84375 , 1.21875 ],\n",
            "         [2.578125, 3.03125 , 1.578125],\n",
            "         ...,\n",
            "         [1.453125, 1.390625, 1.328125],\n",
            "         [2.140625, 2.078125, 1.859375],\n",
            "         [2.171875, 2.125   , 1.890625]]],\n",
            "\n",
            "\n",
            "       [[[1.03125 , 1.265625, 0.46875 ],\n",
            "         [1.5     , 1.5     , 0.671875],\n",
            "         [0.90625 , 0.921875, 0.625   ],\n",
            "         ...,\n",
            "         [1.15625 , 1.15625 , 0.75    ],\n",
            "         [1.703125, 1.421875, 0.796875],\n",
            "         [1.390625, 1.3125  , 1.015625]],\n",
            "\n",
            "        [[1.09375 , 1.25    , 0.671875],\n",
            "         [1.46875 , 1.40625 , 0.703125],\n",
            "         [1.375   , 1.484375, 0.78125 ],\n",
            "         ...,\n",
            "         [1.1875  , 1.03125 , 0.609375],\n",
            "         [1.375   , 1.125   , 0.578125],\n",
            "         [1.484375, 1.3125  , 0.75    ]],\n",
            "\n",
            "        [[1.171875, 1.328125, 0.71875 ],\n",
            "         [0.859375, 1.125   , 0.453125],\n",
            "         [0.875   , 1.09375 , 0.6875  ],\n",
            "         ...,\n",
            "         [1.09375 , 0.96875 , 0.71875 ],\n",
            "         [0.859375, 0.765625, 0.625   ],\n",
            "         [2.375   , 2.03125 , 1.0625  ]],\n",
            "\n",
            "        ...,\n",
            "\n",
            "        [[1.53125 , 1.203125, 0.984375],\n",
            "         [1.875   , 1.46875 , 1.140625],\n",
            "         [2.21875 , 1.6875  , 1.234375],\n",
            "         ...,\n",
            "         [1.0625  , 1.125   , 0.515625],\n",
            "         [1.265625, 1.09375 , 0.9375  ],\n",
            "         [1.40625 , 1.203125, 1.046875]],\n",
            "\n",
            "        [[1.671875, 1.234375, 0.890625],\n",
            "         [1.96875 , 1.484375, 1.140625],\n",
            "         [2.125   , 1.75    , 1.203125],\n",
            "         ...,\n",
            "         [1.734375, 1.34375 , 0.828125],\n",
            "         [1.734375, 1.5625  , 1.09375 ],\n",
            "         [1.4375  , 1.296875, 1.      ]],\n",
            "\n",
            "        [[1.84375 , 1.515625, 0.96875 ],\n",
            "         [1.6875  , 1.421875, 1.046875],\n",
            "         [1.8125  , 1.5625  , 0.96875 ],\n",
            "         ...,\n",
            "         [1.328125, 1.265625, 0.46875 ],\n",
            "         [1.453125, 1.484375, 0.578125],\n",
            "         [1.984375, 1.625   , 1.078125]]]], dtype=float32)>, <tf.Tensor: id=49876, shape=(128,), dtype=int64, numpy=\n",
            "array([470,  10, 146, 970, 176, 318, 912, 533, 100, 372, 248,  18, 389,\n",
            "       767, 224,  43, 903, 507, 127, 813, 222, 100, 221, 150, 223, 716,\n",
            "       876, 690, 467, 957, 813, 832,  63, 293, 184, 486, 385, 495, 483,\n",
            "       172, 615, 568, 221, 445, 819, 370, 868, 832, 419, 954, 433,  17,\n",
            "       337,  39, 703, 520, 400, 298,  96, 963, 465, 263, 866, 872, 965,\n",
            "       965, 605,  69, 703, 827, 543, 926, 927, 687, 584, 336, 508,  55,\n",
            "        36,  52, 624, 201, 505, 419, 757, 178, 818, 872, 949,  19, 748,\n",
            "       401, 950, 963, 833,  67, 319, 112, 863, 221, 126,  42, 913, 855,\n",
            "       355, 112, 857, 742, 885, 893, 963, 411, 462, 110, 997, 967, 903,\n",
            "       414, 273, 354,  74,  69, 703, 431, 102, 832, 994, 445])>)\n"
          ],
          "name": "stdout"
        }
      ]
    },
    {
      "cell_type": "code",
      "metadata": {
        "id": "SwZomhUqm8Kf",
        "colab_type": "code",
        "outputId": "dddb6b44-b18a-4070-c48a-4bf5b3997c26",
        "colab": {
          "base_uri": "https://localhost:8080/",
          "height": 434
        }
      },
      "source": [
        "# training\n",
        "initial_epoch_num = 0\n",
        "history           = model.fit_generator(train_combined, steps_per_epoch=1281149//128, epochs=TRAINING_NUM_EPOCHS, verbose=1, callbacks=callbacks, initial_epoch=initial_epoch_num)\n",
        "\n",
        "# example of restarting training after a crash from the last saved checkpoint\n",
        "# model             = create_model(MODEL_LEVEL_0_REPEATS, MODEL_LEVEL_1_REPEATS, MODEL_LEVEL_2_REPEATS)\n",
        "# model.load_weights(SAVE_MODEL_PATH+'model_X.h5') # replace X with the last saved checkpoint number\n",
        "# initial_epoch_num = X                            # replace X with the last saved checkpoint number\n",
        "# history           = model.fit(x=dataset_train, epochs=TRAINING_NUM_EPOCHS, verbose=1, callbacks=callbacks, validation_data=dataset_test, initial_epoch=initial_epoch_num)\n",
        "\n",
        "# plot accuracy and loss curves\n",
        "plot_training_curves(history)"
      ],
      "execution_count": 0,
      "outputs": [
        {
          "output_type": "stream",
          "text": [
            "Epoch 1/30\n",
            " 8655/10008 [========================>.....] - ETA: 1:31 - loss: nan - acc: 1.8053e-06WARNING:tensorflow:Your dataset iterator ran out of data; interrupting training. Make sure that your iterator can generate at least `steps_per_epoch * epochs` batches (in this case, 300240 batches). You may need touse the repeat() function when building your dataset.\n"
          ],
          "name": "stdout"
        },
        {
          "output_type": "stream",
          "text": [
            "WARNING:tensorflow:Your dataset iterator ran out of data; interrupting training. Make sure that your iterator can generate at least `steps_per_epoch * epochs` batches (in this case, 300240 batches). You may need touse the repeat() function when building your dataset.\n"
          ],
          "name": "stderr"
        },
        {
          "output_type": "stream",
          "text": [
            "WARNING:tensorflow:Can save best model only with val_loss available, skipping.\n"
          ],
          "name": "stdout"
        },
        {
          "output_type": "stream",
          "text": [
            "WARNING:tensorflow:Can save best model only with val_loss available, skipping.\n"
          ],
          "name": "stderr"
        },
        {
          "output_type": "error",
          "ename": "KeyError",
          "evalue": "ignored",
          "traceback": [
            "\u001b[0;31m---------------------------------------------------------------------------\u001b[0m",
            "\u001b[0;31mKeyError\u001b[0m                                  Traceback (most recent call last)",
            "\u001b[0;32m<ipython-input-376-98de72faa792>\u001b[0m in \u001b[0;36m<module>\u001b[0;34m()\u001b[0m\n\u001b[1;32m      9\u001b[0m \u001b[0;34m\u001b[0m\u001b[0m\n\u001b[1;32m     10\u001b[0m \u001b[0;31m# plot accuracy and loss curves\u001b[0m\u001b[0;34m\u001b[0m\u001b[0;34m\u001b[0m\u001b[0;34m\u001b[0m\u001b[0m\n\u001b[0;32m---> 11\u001b[0;31m \u001b[0mplot_training_curves\u001b[0m\u001b[0;34m(\u001b[0m\u001b[0mhistory\u001b[0m\u001b[0;34m)\u001b[0m\u001b[0;34m\u001b[0m\u001b[0;34m\u001b[0m\u001b[0m\n\u001b[0m",
            "\u001b[0;32m<ipython-input-190-b7bf7251d1b8>\u001b[0m in \u001b[0;36mplot_training_curves\u001b[0;34m(history)\u001b[0m\n\u001b[1;32m     20\u001b[0m \u001b[0;34m\u001b[0m\u001b[0m\n\u001b[1;32m     21\u001b[0m     \u001b[0;31m# training and validation data accuracy\u001b[0m\u001b[0;34m\u001b[0m\u001b[0;34m\u001b[0m\u001b[0;34m\u001b[0m\u001b[0m\n\u001b[0;32m---> 22\u001b[0;31m     \u001b[0macc\u001b[0m     \u001b[0;34m=\u001b[0m \u001b[0mhistory\u001b[0m\u001b[0;34m.\u001b[0m\u001b[0mhistory\u001b[0m\u001b[0;34m[\u001b[0m\u001b[0;34m'accuracy'\u001b[0m\u001b[0;34m]\u001b[0m\u001b[0;34m\u001b[0m\u001b[0;34m\u001b[0m\u001b[0m\n\u001b[0m\u001b[1;32m     23\u001b[0m     \u001b[0mval_acc\u001b[0m \u001b[0;34m=\u001b[0m \u001b[0mhistory\u001b[0m\u001b[0;34m.\u001b[0m\u001b[0mhistory\u001b[0m\u001b[0;34m[\u001b[0m\u001b[0;34m'val_accuracy'\u001b[0m\u001b[0;34m]\u001b[0m\u001b[0;34m\u001b[0m\u001b[0;34m\u001b[0m\u001b[0m\n\u001b[1;32m     24\u001b[0m \u001b[0;34m\u001b[0m\u001b[0m\n",
            "\u001b[0;31mKeyError\u001b[0m: 'accuracy'"
          ]
        }
      ]
    },
    {
      "cell_type": "code",
      "metadata": {
        "id": "SRag4ADN3IbT",
        "colab_type": "code",
        "colab": {}
      },
      "source": [
        "test, info = tfds.load(\"mnist\", split=\"train\", with_info=True)"
      ],
      "execution_count": 0,
      "outputs": []
    },
    {
      "cell_type": "code",
      "metadata": {
        "id": "lIstlPXSkPqM",
        "colab_type": "code",
        "colab": {}
      },
      "source": [
        "test = test.batch(32)"
      ],
      "execution_count": 0,
      "outputs": []
    },
    {
      "cell_type": "code",
      "metadata": {
        "id": "wbKwk7MskQG9",
        "colab_type": "code",
        "colab": {}
      },
      "source": [
        ""
      ],
      "execution_count": 0,
      "outputs": []
    },
    {
      "cell_type": "code",
      "metadata": {
        "id": "naFjDMoGkfAF",
        "colab_type": "code",
        "colab": {}
      },
      "source": [
        ""
      ],
      "execution_count": 0,
      "outputs": []
    },
    {
      "cell_type": "code",
      "metadata": {
        "id": "P1dzPkQ-lJdy",
        "colab_type": "code",
        "colab": {}
      },
      "source": [
        ""
      ],
      "execution_count": 0,
      "outputs": []
    }
  ]
}